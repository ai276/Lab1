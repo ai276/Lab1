{
 "cells": [
  {
   "cell_type": "markdown",
   "metadata": {},
   "source": [
    "Abir Islam, Dr. Joshua Young, ENGR 301, Lab 1"
   ]
  },
  {
   "cell_type": "markdown",
   "metadata": {},
   "source": [
    "# Part 1:"
   ]
  },
  {
   "cell_type": "markdown",
   "metadata": {},
   "source": [
    "Problem 1"
   ]
  },
  {
   "cell_type": "code",
   "execution_count": 54,
   "metadata": {},
   "outputs": [],
   "source": [
    "import numpy as np\n",
    "import pandas as pd\n",
    "import matplotlib.pyplot as plt\n",
    "import seaborn as sns"
   ]
  },
  {
   "cell_type": "markdown",
   "metadata": {},
   "source": [
    "Problem 2"
   ]
  },
  {
   "cell_type": "markdown",
   "metadata": {},
   "source": [
    "50530 Observations"
   ]
  },
  {
   "cell_type": "code",
   "execution_count": 55,
   "metadata": {},
   "outputs": [],
   "source": [
    "df = pd.read_csv(\"lab1_data.csv\")"
   ]
  },
  {
   "cell_type": "markdown",
   "metadata": {},
   "source": [
    "Problem 3"
   ]
  },
  {
   "cell_type": "code",
   "execution_count": 5,
   "metadata": {},
   "outputs": [
    {
     "data": {
      "text/plain": [
       "1307.6843318813828"
      ]
     },
     "execution_count": 5,
     "metadata": {},
     "output_type": "execute_result"
    }
   ],
   "source": [
    "df[\"LV ActivePower (kW)\"].mean()"
   ]
  },
  {
   "cell_type": "code",
   "execution_count": 6,
   "metadata": {},
   "outputs": [
    {
     "data": {
      "text/plain": [
       "3618.73291"
      ]
     },
     "execution_count": 6,
     "metadata": {},
     "output_type": "execute_result"
    }
   ],
   "source": [
    "df[\"LV ActivePower (kW)\"].max()"
   ]
  },
  {
   "cell_type": "code",
   "execution_count": 7,
   "metadata": {},
   "outputs": [
    {
     "data": {
      "text/plain": [
       "-2.471405029"
      ]
     },
     "execution_count": 7,
     "metadata": {},
     "output_type": "execute_result"
    }
   ],
   "source": [
    "df[\"LV ActivePower (kW)\"].min()"
   ]
  },
  {
   "cell_type": "code",
   "execution_count": 8,
   "metadata": {},
   "outputs": [
    {
     "data": {
      "text/plain": [
       "825.8380737499999"
      ]
     },
     "execution_count": 8,
     "metadata": {},
     "output_type": "execute_result"
    }
   ],
   "source": [
    "df[\"LV ActivePower (kW)\"].median()"
   ]
  },
  {
   "cell_type": "code",
   "execution_count": 9,
   "metadata": {},
   "outputs": [
    {
     "data": {
      "text/plain": [
       "1312.4592421290968"
      ]
     },
     "execution_count": 9,
     "metadata": {},
     "output_type": "execute_result"
    }
   ],
   "source": [
    "df[\"LV ActivePower (kW)\"].std()"
   ]
  },
  {
   "cell_type": "code",
   "execution_count": 10,
   "metadata": {},
   "outputs": [
    {
     "data": {
      "text/plain": [
       "7.557952236084344"
      ]
     },
     "execution_count": 10,
     "metadata": {},
     "output_type": "execute_result"
    }
   ],
   "source": [
    "df[\"Wind Speed (m/s)\"].mean()"
   ]
  },
  {
   "cell_type": "code",
   "execution_count": 11,
   "metadata": {},
   "outputs": [
    {
     "data": {
      "text/plain": [
       "25.20601082"
      ]
     },
     "execution_count": 11,
     "metadata": {},
     "output_type": "execute_result"
    }
   ],
   "source": [
    "df[\"Wind Speed (m/s)\"].max()"
   ]
  },
  {
   "cell_type": "code",
   "execution_count": 12,
   "metadata": {},
   "outputs": [
    {
     "data": {
      "text/plain": [
       "0.0"
      ]
     },
     "execution_count": 12,
     "metadata": {},
     "output_type": "execute_result"
    }
   ],
   "source": [
    "df[\"Wind Speed (m/s)\"].min()"
   ]
  },
  {
   "cell_type": "code",
   "execution_count": 13,
   "metadata": {},
   "outputs": [
    {
     "data": {
      "text/plain": [
       "7.1045935149999995"
      ]
     },
     "execution_count": 13,
     "metadata": {},
     "output_type": "execute_result"
    }
   ],
   "source": [
    "df[\"Wind Speed (m/s)\"].median()"
   ]
  },
  {
   "cell_type": "code",
   "execution_count": 14,
   "metadata": {},
   "outputs": [
    {
     "data": {
      "text/plain": [
       "4.227166055607975"
      ]
     },
     "execution_count": 14,
     "metadata": {},
     "output_type": "execute_result"
    }
   ],
   "source": [
    "df[\"Wind Speed (m/s)\"].std()"
   ]
  },
  {
   "cell_type": "code",
   "execution_count": 15,
   "metadata": {},
   "outputs": [
    {
     "data": {
      "text/plain": [
       "1492.1754629581606"
      ]
     },
     "execution_count": 15,
     "metadata": {},
     "output_type": "execute_result"
    }
   ],
   "source": [
    "df[\"Theoretical_Power_Curve (KWh)\"].mean()"
   ]
  },
  {
   "cell_type": "code",
   "execution_count": 16,
   "metadata": {},
   "outputs": [
    {
     "data": {
      "text/plain": [
       "3600.0"
      ]
     },
     "execution_count": 16,
     "metadata": {},
     "output_type": "execute_result"
    }
   ],
   "source": [
    "df[\"Theoretical_Power_Curve (KWh)\"].max()"
   ]
  },
  {
   "cell_type": "code",
   "execution_count": 17,
   "metadata": {},
   "outputs": [
    {
     "data": {
      "text/plain": [
       "0.0"
      ]
     },
     "execution_count": 17,
     "metadata": {},
     "output_type": "execute_result"
    }
   ],
   "source": [
    "df[\"Theoretical_Power_Curve (KWh)\"].min()"
   ]
  },
  {
   "cell_type": "code",
   "execution_count": 18,
   "metadata": {},
   "outputs": [
    {
     "data": {
      "text/plain": [
       "1063.7762825"
      ]
     },
     "execution_count": 18,
     "metadata": {},
     "output_type": "execute_result"
    }
   ],
   "source": [
    "df[\"Theoretical_Power_Curve (KWh)\"].median()"
   ]
  },
  {
   "cell_type": "code",
   "execution_count": 19,
   "metadata": {},
   "outputs": [
    {
     "data": {
      "text/plain": [
       "1368.0182378733775"
      ]
     },
     "execution_count": 19,
     "metadata": {},
     "output_type": "execute_result"
    }
   ],
   "source": [
    "df[\"Theoretical_Power_Curve (KWh)\"].std()"
   ]
  },
  {
   "cell_type": "code",
   "execution_count": 20,
   "metadata": {},
   "outputs": [
    {
     "data": {
      "text/plain": [
       "123.68755850949643"
      ]
     },
     "execution_count": 20,
     "metadata": {},
     "output_type": "execute_result"
    }
   ],
   "source": [
    "df[\"Wind Direction (°)\"].mean()"
   ]
  },
  {
   "cell_type": "code",
   "execution_count": 21,
   "metadata": {},
   "outputs": [
    {
     "data": {
      "text/plain": [
       "359.9975891"
      ]
     },
     "execution_count": 21,
     "metadata": {},
     "output_type": "execute_result"
    }
   ],
   "source": [
    "df[\"Wind Direction (°)\"].max()"
   ]
  },
  {
   "cell_type": "code",
   "execution_count": 22,
   "metadata": {},
   "outputs": [
    {
     "data": {
      "text/plain": [
       "0.0"
      ]
     },
     "execution_count": 22,
     "metadata": {},
     "output_type": "execute_result"
    }
   ],
   "source": [
    "df[\"Wind Direction (°)\"].min()"
   ]
  },
  {
   "cell_type": "code",
   "execution_count": 23,
   "metadata": {},
   "outputs": [
    {
     "data": {
      "text/plain": [
       "73.71297836"
      ]
     },
     "execution_count": 23,
     "metadata": {},
     "output_type": "execute_result"
    }
   ],
   "source": [
    "df[\"Wind Direction (°)\"].median()"
   ]
  },
  {
   "cell_type": "code",
   "execution_count": 24,
   "metadata": {},
   "outputs": [
    {
     "data": {
      "text/plain": [
       "93.44373572786594"
      ]
     },
     "execution_count": 24,
     "metadata": {},
     "output_type": "execute_result"
    }
   ],
   "source": [
    "df[\"Wind Direction (°)\"].std()"
   ]
  },
  {
   "cell_type": "markdown",
   "metadata": {},
   "source": [
    "LV ActivePower (kW) mean/median: different by more than 10%\n",
    "Wind Speed (m/s) mean/median: same\n",
    "Theoretical_Power_Curve (KWh) mean/median: different by more than 10%\n",
    "Wind Direction (°) mean/median: different by more than 10%"
   ]
  },
  {
   "cell_type": "code",
   "execution_count": 35,
   "metadata": {},
   "outputs": [
    {
     "data": {
      "text/html": [
       "<div>\n",
       "<style scoped>\n",
       "    .dataframe tbody tr th:only-of-type {\n",
       "        vertical-align: middle;\n",
       "    }\n",
       "\n",
       "    .dataframe tbody tr th {\n",
       "        vertical-align: top;\n",
       "    }\n",
       "\n",
       "    .dataframe thead th {\n",
       "        text-align: right;\n",
       "    }\n",
       "</style>\n",
       "<table border=\"1\" class=\"dataframe\">\n",
       "  <thead>\n",
       "    <tr style=\"text-align: right;\">\n",
       "      <th></th>\n",
       "      <th>Observation Number</th>\n",
       "      <th>LV ActivePower (kW)</th>\n",
       "      <th>Wind Speed (m/s)</th>\n",
       "      <th>Theoretical_Power_Curve (KWh)</th>\n",
       "      <th>Wind Direction (°)</th>\n",
       "    </tr>\n",
       "  </thead>\n",
       "  <tbody>\n",
       "    <tr>\n",
       "      <th>count</th>\n",
       "      <td>50530.000000</td>\n",
       "      <td>50530.000000</td>\n",
       "      <td>50530.000000</td>\n",
       "      <td>50530.000000</td>\n",
       "      <td>50530.000000</td>\n",
       "    </tr>\n",
       "    <tr>\n",
       "      <th>mean</th>\n",
       "      <td>25265.500000</td>\n",
       "      <td>1307.684332</td>\n",
       "      <td>7.557952</td>\n",
       "      <td>1492.175463</td>\n",
       "      <td>123.687559</td>\n",
       "    </tr>\n",
       "    <tr>\n",
       "      <th>std</th>\n",
       "      <td>14586.898888</td>\n",
       "      <td>1312.459242</td>\n",
       "      <td>4.227166</td>\n",
       "      <td>1368.018238</td>\n",
       "      <td>93.443736</td>\n",
       "    </tr>\n",
       "    <tr>\n",
       "      <th>min</th>\n",
       "      <td>1.000000</td>\n",
       "      <td>-2.471405</td>\n",
       "      <td>0.000000</td>\n",
       "      <td>0.000000</td>\n",
       "      <td>0.000000</td>\n",
       "    </tr>\n",
       "    <tr>\n",
       "      <th>25%</th>\n",
       "      <td>12633.250000</td>\n",
       "      <td>50.677890</td>\n",
       "      <td>4.201395</td>\n",
       "      <td>161.328167</td>\n",
       "      <td>49.315437</td>\n",
       "    </tr>\n",
       "    <tr>\n",
       "      <th>50%</th>\n",
       "      <td>25265.500000</td>\n",
       "      <td>825.838074</td>\n",
       "      <td>7.104594</td>\n",
       "      <td>1063.776282</td>\n",
       "      <td>73.712978</td>\n",
       "    </tr>\n",
       "    <tr>\n",
       "      <th>75%</th>\n",
       "      <td>37897.750000</td>\n",
       "      <td>2482.507569</td>\n",
       "      <td>10.300020</td>\n",
       "      <td>2964.972462</td>\n",
       "      <td>201.696720</td>\n",
       "    </tr>\n",
       "    <tr>\n",
       "      <th>max</th>\n",
       "      <td>50530.000000</td>\n",
       "      <td>3618.732910</td>\n",
       "      <td>25.206011</td>\n",
       "      <td>3600.000000</td>\n",
       "      <td>359.997589</td>\n",
       "    </tr>\n",
       "  </tbody>\n",
       "</table>\n",
       "</div>"
      ],
      "text/plain": [
       "       Observation Number  LV ActivePower (kW)  Wind Speed (m/s)  \\\n",
       "count        50530.000000         50530.000000      50530.000000   \n",
       "mean         25265.500000          1307.684332          7.557952   \n",
       "std          14586.898888          1312.459242          4.227166   \n",
       "min              1.000000            -2.471405          0.000000   \n",
       "25%          12633.250000            50.677890          4.201395   \n",
       "50%          25265.500000           825.838074          7.104594   \n",
       "75%          37897.750000          2482.507569         10.300020   \n",
       "max          50530.000000          3618.732910         25.206011   \n",
       "\n",
       "       Theoretical_Power_Curve (KWh)  Wind Direction (°)  \n",
       "count                   50530.000000        50530.000000  \n",
       "mean                     1492.175463          123.687559  \n",
       "std                      1368.018238           93.443736  \n",
       "min                         0.000000            0.000000  \n",
       "25%                       161.328167           49.315437  \n",
       "50%                      1063.776282           73.712978  \n",
       "75%                      2964.972462          201.696720  \n",
       "max                      3600.000000          359.997589  "
      ]
     },
     "execution_count": 35,
     "metadata": {},
     "output_type": "execute_result"
    },
    {
     "data": {
      "image/png": "[encoded data removed]",
      "text/plain": [
       "<Figure size 1152x1296 with 6 Axes>"
      ]
     },
     "metadata": {
      "needs_background": "light"
     },
     "output_type": "display_data"
    }
   ],
   "source": [
    "df.hist(figsize = (16,18), bins = 50)\n",
    "df.describe()"
   ]
  },
  {
   "cell_type": "markdown",
   "metadata": {},
   "source": [
    "The Mean and Median vary across each histogram as each set of data has its own values and trends as shown in the histograms. "
   ]
  },
  {
   "cell_type": "markdown",
   "metadata": {},
   "source": [
    "Problem 4"
   ]
  },
  {
   "cell_type": "markdown",
   "metadata": {},
   "source": [
    "Part A) Wind Speed"
   ]
  },
  {
   "cell_type": "code",
   "execution_count": 42,
   "metadata": {},
   "outputs": [
    {
     "data": {
      "text/plain": [
       "Text(0, 0.5, 'Observations')"
      ]
     },
     "execution_count": 42,
     "metadata": {},
     "output_type": "execute_result"
    },
    {
     "data": {
      "image/png": "[encoded data removed]",
      "text/plain": [
       "<Figure size 432x288 with 1 Axes>"
      ]
     },
     "metadata": {
      "needs_background": "light"
     },
     "output_type": "display_data"
    }
   ],
   "source": [
    "ax = (df['Wind Speed (m/s)']).plot.box()\n",
    "ax.set_ylabel(\"Observations\")"
   ]
  },
  {
   "cell_type": "markdown",
   "metadata": {},
   "source": [
    "Part B) Actual Power"
   ]
  },
  {
   "cell_type": "code",
   "execution_count": 44,
   "metadata": {},
   "outputs": [
    {
     "data": {
      "text/plain": [
       "Text(0, 0.5, 'Observations')"
      ]
     },
     "execution_count": 44,
     "metadata": {},
     "output_type": "execute_result"
    },
    {
     "data": {
      "image/png": "[encoded data removed]",
      "text/plain": [
       "<Figure size 432x288 with 1 Axes>"
      ]
     },
     "metadata": {
      "needs_background": "light"
     },
     "output_type": "display_data"
    }
   ],
   "source": [
    "ax = (df['LV ActivePower (kW)']).plot.box()\n",
    "ax.set_ylabel(\"Observations\")"
   ]
  },
  {
   "cell_type": "markdown",
   "metadata": {},
   "source": [
    "The shape of the box plot for windspeed is represented well in the histogram as there is a sudden increase, followed by a plateu, followed by a sudden increase.\n",
    "\n",
    "The shape of the box plot for actual power is represented well in the histogram as there is a favorable amount of data to begin then slowly begins to decline. "
   ]
  },
  {
   "cell_type": "markdown",
   "metadata": {},
   "source": [
    "Problem 5"
   ]
  },
  {
   "cell_type": "code",
   "execution_count": 56,
   "metadata": {},
   "outputs": [],
   "source": [
    "def find_month(x):\n",
    "    if \" 01 \" in x:\n",
    "        return \"Jan\"\n",
    "    elif \" 02 \" in x:\n",
    "        return \"Feb\"\n",
    "    elif \" 03 \" in x:\n",
    "        return \"March\"    \n",
    "    elif \" 04 \" in x:\n",
    "        return \"April\"    \n",
    "    elif \" 05 \" in x:\n",
    "        return \"May\"    \n",
    "    elif \" 06 \" in x:\n",
    "        return \"June\"    \n",
    "    elif \" 07 \" in x:\n",
    "        return \"July\"    \n",
    "    elif \" 08 \" in x:\n",
    "        return \"August\"    \n",
    "    elif \" 09 \" in x:\n",
    "        return \"Sep\"    \n",
    "    elif \" 10 \" in x:\n",
    "        return \"Oct\"    \n",
    "    elif \" 11 \" in x:\n",
    "        return \"Nov\"    \n",
    "    else:\n",
    "        return \"Dec\""
   ]
  },
  {
   "cell_type": "code",
   "execution_count": 57,
   "metadata": {},
   "outputs": [],
   "source": [
    "df[\"Month\"]=df[\"Date/Time\"].apply(find_month)"
   ]
  },
  {
   "cell_type": "code",
   "execution_count": 58,
   "metadata": {},
   "outputs": [
    {
     "data": {
      "text/html": [
       "<div>\n",
       "<style scoped>\n",
       "    .dataframe tbody tr th:only-of-type {\n",
       "        vertical-align: middle;\n",
       "    }\n",
       "\n",
       "    .dataframe tbody tr th {\n",
       "        vertical-align: top;\n",
       "    }\n",
       "\n",
       "    .dataframe thead th {\n",
       "        text-align: right;\n",
       "    }\n",
       "</style>\n",
       "<table border=\"1\" class=\"dataframe\">\n",
       "  <thead>\n",
       "    <tr style=\"text-align: right;\">\n",
       "      <th></th>\n",
       "      <th>Observation Number</th>\n",
       "      <th>LV ActivePower (kW)</th>\n",
       "      <th>Wind Speed (m/s)</th>\n",
       "      <th>Theoretical_Power_Curve (KWh)</th>\n",
       "      <th>Wind Direction (°)</th>\n",
       "    </tr>\n",
       "    <tr>\n",
       "      <th>Month</th>\n",
       "      <th></th>\n",
       "      <th></th>\n",
       "      <th></th>\n",
       "      <th></th>\n",
       "      <th></th>\n",
       "    </tr>\n",
       "  </thead>\n",
       "  <tbody>\n",
       "    <tr>\n",
       "      <th>April</th>\n",
       "      <td>14465.0</td>\n",
       "      <td>824.358603</td>\n",
       "      <td>5.852096</td>\n",
       "      <td>955.690141</td>\n",
       "      <td>102.698848</td>\n",
       "    </tr>\n",
       "    <tr>\n",
       "      <th>August</th>\n",
       "      <td>31988.0</td>\n",
       "      <td>1978.188795</td>\n",
       "      <td>9.339899</td>\n",
       "      <td>2220.579161</td>\n",
       "      <td>52.473360</td>\n",
       "    </tr>\n",
       "    <tr>\n",
       "      <th>Dec</th>\n",
       "      <td>48307.0</td>\n",
       "      <td>1176.785881</td>\n",
       "      <td>7.357389</td>\n",
       "      <td>1424.063554</td>\n",
       "      <td>140.667803</td>\n",
       "    </tr>\n",
       "    <tr>\n",
       "      <th>Feb</th>\n",
       "      <td>5833.5</td>\n",
       "      <td>1503.355020</td>\n",
       "      <td>8.620697</td>\n",
       "      <td>1712.709958</td>\n",
       "      <td>143.353927</td>\n",
       "    </tr>\n",
       "    <tr>\n",
       "      <th>Jan</th>\n",
       "      <td>1909.0</td>\n",
       "      <td>1323.157951</td>\n",
       "      <td>8.550920</td>\n",
       "      <td>1847.287918</td>\n",
       "      <td>157.829495</td>\n",
       "    </tr>\n",
       "    <tr>\n",
       "      <th>July</th>\n",
       "      <td>27543.5</td>\n",
       "      <td>477.014298</td>\n",
       "      <td>4.950335</td>\n",
       "      <td>583.709297</td>\n",
       "      <td>120.400853</td>\n",
       "    </tr>\n",
       "    <tr>\n",
       "      <th>June</th>\n",
       "      <td>23189.0</td>\n",
       "      <td>995.490376</td>\n",
       "      <td>6.342205</td>\n",
       "      <td>1139.291376</td>\n",
       "      <td>130.566252</td>\n",
       "    </tr>\n",
       "    <tr>\n",
       "      <th>March</th>\n",
       "      <td>10081.0</td>\n",
       "      <td>1952.405766</td>\n",
       "      <td>9.734390</td>\n",
       "      <td>2075.819877</td>\n",
       "      <td>190.378235</td>\n",
       "    </tr>\n",
       "    <tr>\n",
       "      <th>May</th>\n",
       "      <td>18842.0</td>\n",
       "      <td>836.941996</td>\n",
       "      <td>5.859028</td>\n",
       "      <td>960.203607</td>\n",
       "      <td>136.501579</td>\n",
       "    </tr>\n",
       "    <tr>\n",
       "      <th>Nov</th>\n",
       "      <td>44183.5</td>\n",
       "      <td>1886.693868</td>\n",
       "      <td>9.373864</td>\n",
       "      <td>2030.027723</td>\n",
       "      <td>101.102801</td>\n",
       "    </tr>\n",
       "    <tr>\n",
       "      <th>Oct</th>\n",
       "      <td>40242.0</td>\n",
       "      <td>1408.274877</td>\n",
       "      <td>7.538289</td>\n",
       "      <td>1534.185219</td>\n",
       "      <td>108.738023</td>\n",
       "    </tr>\n",
       "    <tr>\n",
       "      <th>Sep</th>\n",
       "      <td>36200.5</td>\n",
       "      <td>1429.484639</td>\n",
       "      <td>7.583327</td>\n",
       "      <td>1553.319599</td>\n",
       "      <td>98.196628</td>\n",
       "    </tr>\n",
       "  </tbody>\n",
       "</table>\n",
       "</div>"
      ],
      "text/plain": [
       "        Observation Number  LV ActivePower (kW)  Wind Speed (m/s)  \\\n",
       "Month                                                               \n",
       "April              14465.0           824.358603          5.852096   \n",
       "August             31988.0          1978.188795          9.339899   \n",
       "Dec                48307.0          1176.785881          7.357389   \n",
       "Feb                 5833.5          1503.355020          8.620697   \n",
       "Jan                 1909.0          1323.157951          8.550920   \n",
       "July               27543.5           477.014298          4.950335   \n",
       "June               23189.0           995.490376          6.342205   \n",
       "March              10081.0          1952.405766          9.734390   \n",
       "May                18842.0           836.941996          5.859028   \n",
       "Nov                44183.5          1886.693868          9.373864   \n",
       "Oct                40242.0          1408.274877          7.538289   \n",
       "Sep                36200.5          1429.484639          7.583327   \n",
       "\n",
       "        Theoretical_Power_Curve (KWh)  Wind Direction (°)  \n",
       "Month                                                      \n",
       "April                      955.690141          102.698848  \n",
       "August                    2220.579161           52.473360  \n",
       "Dec                       1424.063554          140.667803  \n",
       "Feb                       1712.709958          143.353927  \n",
       "Jan                       1847.287918          157.829495  \n",
       "July                       583.709297          120.400853  \n",
       "June                      1139.291376          130.566252  \n",
       "March                     2075.819877          190.378235  \n",
       "May                        960.203607          136.501579  \n",
       "Nov                       2030.027723          101.102801  \n",
       "Oct                       1534.185219          108.738023  \n",
       "Sep                       1553.319599           98.196628  "
      ]
     },
     "execution_count": 58,
     "metadata": {},
     "output_type": "execute_result"
    }
   ],
   "source": [
    "df.groupby('Month').mean()"
   ]
  },
  {
   "cell_type": "markdown",
   "metadata": {},
   "source": [
    "August, March, November have the highest average wind speed. August, March, November have the highest power output. Yes because the higher the wind speed, the more power is output."
   ]
  },
  {
   "cell_type": "markdown",
   "metadata": {},
   "source": [
    "# Part 2"
   ]
  },
  {
   "cell_type": "markdown",
   "metadata": {},
   "source": [
    "Problem 1:"
   ]
  },
  {
   "cell_type": "raw",
   "metadata": {},
   "source": [
    "Part a:"
   ]
  },
  {
   "cell_type": "code",
   "execution_count": 63,
   "metadata": {},
   "outputs": [
    {
     "data": {
      "text/plain": [
       "Text(0, 0.5, 'Wind Speed (m/s)')"
      ]
     },
     "execution_count": 63,
     "metadata": {},
     "output_type": "execute_result"
    },
    {
     "data": {
      "image/png": "[encoded data removed]",
      "text/plain": [
       "<Figure size 432x288 with 1 Axes>"
      ]
     },
     "metadata": {
      "needs_background": "light"
     },
     "output_type": "display_data"
    }
   ],
   "source": [
    "x = df[\"Theoretical_Power_Curve (KWh)\"]\n",
    "y = df[\"Wind Speed (m/s)\"]\n",
    "plt.scatter(x,y)\n",
    "plt.title(\"Theoretical Power versus Wind Speed\")\n",
    "plt.xlabel(\"Theoretical Power (KWh)\")\n",
    "plt.ylabel(\"Wind Speed (m/s)\")"
   ]
  },
  {
   "cell_type": "markdown",
   "metadata": {},
   "source": [
    "Part b:"
   ]
  },
  {
   "cell_type": "code",
   "execution_count": 8,
   "metadata": {},
   "outputs": [
    {
     "data": {
      "text/plain": [
       "Text(0, 0.5, 'Wind Direction (°)')"
      ]
     },
     "execution_count": 8,
     "metadata": {},
     "output_type": "execute_result"
    },
    {
     "data": {
      "image/png": "[encoded data removed]",
      "text/plain": [
       "<Figure size 432x288 with 1 Axes>"
      ]
     },
     "metadata": {
      "needs_background": "light"
     },
     "output_type": "display_data"
    }
   ],
   "source": [
    "x = df[\"Theoretical_Power_Curve (KWh)\"]\n",
    "y = df[\"Wind Direction (°)\"]\n",
    "plt.scatter(x,y)\n",
    "plt.title(\"Theoretical Power versus Wind Direction\")\n",
    "plt.xlabel(\"Theoretical Power (KWh)\")\n",
    "plt.ylabel(\"Wind Direction (°)\")"
   ]
  },
  {
   "cell_type": "markdown",
   "metadata": {},
   "source": [
    "For the first scatterplot the x-axis must be theoretical power and the y-axis must be wind speed. The independent variable belongs on the x-axis, and the dependent variable belongs on the y-axis.\n",
    "\n",
    "For the second scatterplot the x-axis must be theoretical power and the y-axis must be wind direction. The independent variable belongs on the x-axis, and the dependent variable belongs on the y-axis.\n",
    "\n",
    "These scateer plots show the distribution of data, while also showing how one variable is affected by another. These plots show that in increase in power increases wind speed and push it in an increased angle of direction. "
   ]
  },
  {
   "cell_type": "markdown",
   "metadata": {},
   "source": [
    "Problem 2:"
   ]
  },
  {
   "cell_type": "code",
   "execution_count": 64,
   "metadata": {},
   "outputs": [
    {
     "data": {
      "text/plain": [
       "Text(0, 0.5, 'Wind Speed (m/s)')"
      ]
     },
     "execution_count": 64,
     "metadata": {},
     "output_type": "execute_result"
    },
    {
     "data": {
      "image/png": "[encoded data removed]",
      "text/plain": [
       "<Figure size 432x288 with 1 Axes>"
      ]
     },
     "metadata": {
      "needs_background": "light"
     },
     "output_type": "display_data"
    }
   ],
   "source": [
    "x = df[\"LV ActivePower (kW)\"]\n",
    "y = df[\"Wind Speed (m/s)\"]\n",
    "plt.scatter(x,y)\n",
    "plt.title(\"Actual Power vs Wind speed\")\n",
    "plt.xlabel(\"LV ActivePower (kW)\")\n",
    "plt.ylabel(\"Wind Speed (m/s)\")"
   ]
  },
  {
   "cell_type": "code",
   "execution_count": 65,
   "metadata": {},
   "outputs": [
    {
     "data": {
      "text/plain": [
       "Text(0, 0.5, 'Wind Direction (°)')"
      ]
     },
     "execution_count": 65,
     "metadata": {},
     "output_type": "execute_result"
    },
    {
     "data": {
      "image/png": "[encoded data removed]",
      "text/plain": [
       "<Figure size 432x288 with 1 Axes>"
      ]
     },
     "metadata": {
      "needs_background": "light"
     },
     "output_type": "display_data"
    }
   ],
   "source": [
    "x = df[\"LV ActivePower (kW)\"]\n",
    "y = df[\"Wind Direction (°)\"]\n",
    "plt.scatter(x,y)\n",
    "plt.title(\"Actual Power vs Wind Direction\")\n",
    "plt.xlabel(\"LV ActivePower (kW)\")\n",
    "plt.ylabel(\"Wind Direction (°)\")"
   ]
  },
  {
   "cell_type": "markdown",
   "metadata": {},
   "source": [
    "These plots show the actual power generation and how it affects wind speed and direction. An increase in power increases wind speed while also altering the direction the wind goes, just as in the previous scatter plots."
   ]
  },
  {
   "cell_type": "markdown",
   "metadata": {},
   "source": [
    "Problem 3:"
   ]
  },
  {
   "cell_type": "markdown",
   "metadata": {},
   "source": [
    "Comparing the 2 graphs that include wind speed shows an increasing wind speed with an increase in both theoretical power and actual power. However the actual power plot has a wider distribution of data as power increases when compared to the theoretical power plot. This is most likley because when recording data there are going to be more outliers than when using theoretical values.\n",
    "\n",
    "When comparing the 2 plots that include wind direction, they both show an even distribution of data as the power level increases the degree of direction of the wind. Both plots are similar to each other. "
   ]
  },
  {
   "cell_type": "markdown",
   "metadata": {},
   "source": [
    "Problem 4:"
   ]
  },
  {
   "cell_type": "code",
   "execution_count": 66,
   "metadata": {},
   "outputs": [
    {
     "data": {
      "text/html": [
       "<div>\n",
       "<style scoped>\n",
       "    .dataframe tbody tr th:only-of-type {\n",
       "        vertical-align: middle;\n",
       "    }\n",
       "\n",
       "    .dataframe tbody tr th {\n",
       "        vertical-align: top;\n",
       "    }\n",
       "\n",
       "    .dataframe thead th {\n",
       "        text-align: right;\n",
       "    }\n",
       "</style>\n",
       "<table border=\"1\" class=\"dataframe\">\n",
       "  <thead>\n",
       "    <tr style=\"text-align: right;\">\n",
       "      <th></th>\n",
       "      <th>Observation Number</th>\n",
       "      <th>LV ActivePower (kW)</th>\n",
       "      <th>Wind Speed (m/s)</th>\n",
       "      <th>Theoretical_Power_Curve (KWh)</th>\n",
       "      <th>Wind Direction (°)</th>\n",
       "    </tr>\n",
       "  </thead>\n",
       "  <tbody>\n",
       "    <tr>\n",
       "      <th>Observation Number</th>\n",
       "      <td>1.000000</td>\n",
       "      <td>0.029917</td>\n",
       "      <td>-0.013854</td>\n",
       "      <td>0.006009</td>\n",
       "      <td>-0.183999</td>\n",
       "    </tr>\n",
       "    <tr>\n",
       "      <th>LV ActivePower (kW)</th>\n",
       "      <td>0.029917</td>\n",
       "      <td>1.000000</td>\n",
       "      <td>0.912774</td>\n",
       "      <td>0.949918</td>\n",
       "      <td>-0.062702</td>\n",
       "    </tr>\n",
       "    <tr>\n",
       "      <th>Wind Speed (m/s)</th>\n",
       "      <td>-0.013854</td>\n",
       "      <td>0.912774</td>\n",
       "      <td>1.000000</td>\n",
       "      <td>0.944209</td>\n",
       "      <td>-0.077188</td>\n",
       "    </tr>\n",
       "    <tr>\n",
       "      <th>Theoretical_Power_Curve (KWh)</th>\n",
       "      <td>0.006009</td>\n",
       "      <td>0.949918</td>\n",
       "      <td>0.944209</td>\n",
       "      <td>1.000000</td>\n",
       "      <td>-0.099076</td>\n",
       "    </tr>\n",
       "    <tr>\n",
       "      <th>Wind Direction (°)</th>\n",
       "      <td>-0.183999</td>\n",
       "      <td>-0.062702</td>\n",
       "      <td>-0.077188</td>\n",
       "      <td>-0.099076</td>\n",
       "      <td>1.000000</td>\n",
       "    </tr>\n",
       "  </tbody>\n",
       "</table>\n",
       "</div>"
      ],
      "text/plain": [
       "                               Observation Number  LV ActivePower (kW)  \\\n",
       "Observation Number                       1.000000             0.029917   \n",
       "LV ActivePower (kW)                      0.029917             1.000000   \n",
       "Wind Speed (m/s)                        -0.013854             0.912774   \n",
       "Theoretical_Power_Curve (KWh)            0.006009             0.949918   \n",
       "Wind Direction (°)                      -0.183999            -0.062702   \n",
       "\n",
       "                               Wind Speed (m/s)  \\\n",
       "Observation Number                    -0.013854   \n",
       "LV ActivePower (kW)                    0.912774   \n",
       "Wind Speed (m/s)                       1.000000   \n",
       "Theoretical_Power_Curve (KWh)          0.944209   \n",
       "Wind Direction (°)                    -0.077188   \n",
       "\n",
       "                               Theoretical_Power_Curve (KWh)  \\\n",
       "Observation Number                                  0.006009   \n",
       "LV ActivePower (kW)                                 0.949918   \n",
       "Wind Speed (m/s)                                    0.944209   \n",
       "Theoretical_Power_Curve (KWh)                       1.000000   \n",
       "Wind Direction (°)                                 -0.099076   \n",
       "\n",
       "                               Wind Direction (°)  \n",
       "Observation Number                      -0.183999  \n",
       "LV ActivePower (kW)                     -0.062702  \n",
       "Wind Speed (m/s)                        -0.077188  \n",
       "Theoretical_Power_Curve (KWh)           -0.099076  \n",
       "Wind Direction (°)                       1.000000  "
      ]
     },
     "execution_count": 66,
     "metadata": {},
     "output_type": "execute_result"
    }
   ],
   "source": [
    "df.corr()"
   ]
  },
  {
   "cell_type": "markdown",
   "metadata": {},
   "source": [
    "Part a: Wind Speed and theoretical power curve: Strong positive correlation.\n",
    "Part b: Wind direction and theoretical power curve: Weak negative correlation.\n",
    "Part c: Wind speed and actual power curve: Strong positive correlation.\n",
    "Part d: Wind direction and actual power curve: Weak negative correlation.\n",
    "\n",
    "Yes they agree with the scatterplots displayed above.\n"
   ]
  },
  {
   "cell_type": "markdown",
   "metadata": {},
   "source": [
    "Problem 5:"
   ]
  },
  {
   "cell_type": "markdown",
   "metadata": {},
   "source": [
    "The theoretical power and actual power have a strong positive correlation with a value very close to 1.0. This makes sense because the actual power is typically near what the theoretical power value is. "
   ]
  },
  {
   "cell_type": "markdown",
   "metadata": {},
   "source": [
    "# Part 3:"
   ]
  },
  {
   "cell_type": "markdown",
   "metadata": {},
   "source": [
    "Problem 1:"
   ]
  },
  {
   "cell_type": "markdown",
   "metadata": {},
   "source": [
    "Part a"
   ]
  },
  {
   "cell_type": "code",
   "execution_count": 59,
   "metadata": {},
   "outputs": [
    {
     "name": "stdout",
     "output_type": "stream",
     "text": [
      "       Observation Number         Date/Time  LV ActivePower (kW)  \\\n",
      "0                       1  01 01 2018 00:00           380.047790   \n",
      "1                       2  01 01 2018 00:10           453.769196   \n",
      "2                       3  01 01 2018 00:20           306.376587   \n",
      "3                       4  01 01 2018 00:30           419.645904   \n",
      "4                       5  01 01 2018 00:40           380.650696   \n",
      "...                   ...               ...                  ...   \n",
      "50525               50526  31 12 2018 23:10          2963.980957   \n",
      "50526               50527  31 12 2018 23:20          1684.353027   \n",
      "50527               50528  31 12 2018 23:30          2201.106934   \n",
      "50528               50529  31 12 2018 23:40          2515.694092   \n",
      "50529               50530  31 12 2018 23:50          2820.466064   \n",
      "\n",
      "       Wind Speed (m/s)  Theoretical_Power_Curve (KWh)  Wind Direction (°)  \\\n",
      "0              5.311336                     416.328908          259.994904   \n",
      "1              5.672167                     519.917511          268.641113   \n",
      "2              5.216037                     390.900016          272.564789   \n",
      "3              5.659674                     516.127569          271.258087   \n",
      "4              5.577941                     491.702972          265.674286   \n",
      "...                 ...                            ...                 ...   \n",
      "50525         11.404030                    3397.190793           80.502724   \n",
      "50526          7.332648                    1173.055771           84.062599   \n",
      "50527          8.435358                    1788.284755           84.742500   \n",
      "50528          9.421366                    2418.382503           84.297913   \n",
      "50529          9.979332                    2779.184096           82.274620   \n",
      "\n",
      "      Month        Loss  \n",
      "0       Jan  -36.281117  \n",
      "1       Jan  -66.148316  \n",
      "2       Jan  -84.523429  \n",
      "3       Jan  -96.481665  \n",
      "4       Jan -111.052276  \n",
      "...     ...         ...  \n",
      "50525   Dec -433.209836  \n",
      "50526   Dec  511.297256  \n",
      "50527   Dec  412.822179  \n",
      "50528   Dec   97.311589  \n",
      "50529   Dec   41.281968  \n",
      "\n",
      "[50530 rows x 8 columns]\n"
     ]
    }
   ],
   "source": [
    "df[\"Loss\"] = df[\"LV ActivePower (kW)\"]-df[\"Theoretical_Power_Curve (KWh)\"]\n",
    "print(df)"
   ]
  },
  {
   "cell_type": "code",
   "execution_count": 60,
   "metadata": {},
   "outputs": [
    {
     "name": "stdout",
     "output_type": "stream",
     "text": [
      "       Observation Number         Date/Time  LV ActivePower (kW)  \\\n",
      "0                       1  01 01 2018 00:00           380.047790   \n",
      "1                       2  01 01 2018 00:10           453.769196   \n",
      "2                       3  01 01 2018 00:20           306.376587   \n",
      "3                       4  01 01 2018 00:30           419.645904   \n",
      "4                       5  01 01 2018 00:40           380.650696   \n",
      "...                   ...               ...                  ...   \n",
      "50525               50526  31 12 2018 23:10          2963.980957   \n",
      "50526               50527  31 12 2018 23:20          1684.353027   \n",
      "50527               50528  31 12 2018 23:30          2201.106934   \n",
      "50528               50529  31 12 2018 23:40          2515.694092   \n",
      "50529               50530  31 12 2018 23:50          2820.466064   \n",
      "\n",
      "       Wind Speed (m/s)  Theoretical_Power_Curve (KWh)  Wind Direction (°)  \\\n",
      "0              5.311336                     416.328908          259.994904   \n",
      "1              5.672167                     519.917511          268.641113   \n",
      "2              5.216037                     390.900016          272.564789   \n",
      "3              5.659674                     516.127569          271.258087   \n",
      "4              5.577941                     491.702972          265.674286   \n",
      "...                 ...                            ...                 ...   \n",
      "50525         11.404030                    3397.190793           80.502724   \n",
      "50526          7.332648                    1173.055771           84.062599   \n",
      "50527          8.435358                    1788.284755           84.742500   \n",
      "50528          9.421366                    2418.382503           84.297913   \n",
      "50529          9.979332                    2779.184096           82.274620   \n",
      "\n",
      "      Month        Loss  Loss Percentage  \n",
      "0       Jan  -36.281117        91.285468  \n",
      "1       Jan  -66.148316        87.277152  \n",
      "2       Jan  -84.523429        78.377226  \n",
      "3       Jan  -96.481665        81.306625  \n",
      "4       Jan -111.052276        77.414764  \n",
      "...     ...         ...              ...  \n",
      "50525   Dec -433.209836        87.247998  \n",
      "50526   Dec  511.297256       143.586782  \n",
      "50527   Dec  412.822179       123.084812  \n",
      "50528   Dec   97.311589       104.023830  \n",
      "50529   Dec   41.281968       101.485399  \n",
      "\n",
      "[50530 rows x 9 columns]\n"
     ]
    }
   ],
   "source": [
    "df[\"Loss Percentage\"] = (df[\"LV ActivePower (kW)\"] / (df[\"Theoretical_Power_Curve (KWh)\"]))*100\n",
    "print(df)"
   ]
  },
  {
   "cell_type": "markdown",
   "metadata": {},
   "source": [
    "The \"Loss\" column represents the amount of power that is lost during the process which is why the actual values are typically less than the theoretical values.\n",
    "\n",
    "The \"Loss Percentage\" column represents the percentage of power lost during the process."
   ]
  },
  {
   "cell_type": "markdown",
   "metadata": {},
   "source": [
    "Part b"
   ]
  },
  {
   "cell_type": "code",
   "execution_count": 7,
   "metadata": {},
   "outputs": [
    {
     "data": {
      "text/plain": [
       "Text(0, 0.5, 'Loss')"
      ]
     },
     "execution_count": 7,
     "metadata": {},
     "output_type": "execute_result"
    },
    {
     "data": {
      "image/png": "[encoded data removed]",
      "text/plain": [
       "<Figure size 432x288 with 1 Axes>"
      ]
     },
     "metadata": {
      "needs_background": "light"
     },
     "output_type": "display_data"
    }
   ],
   "source": [
    "x = df[\"Wind Speed (m/s)\"]\n",
    "y = df[\"Loss\"]\n",
    "plt.scatter(x,y)\n",
    "plt.title(\"Wind Speed vs Loss\")\n",
    "plt.xlabel(\"Wind Speed (m/s)\")\n",
    "plt.ylabel(\"Loss\")"
   ]
  },
  {
   "cell_type": "code",
   "execution_count": 8,
   "metadata": {},
   "outputs": [
    {
     "data": {
      "text/plain": [
       "Text(0, 0.5, 'Loss Percentage')"
      ]
     },
     "execution_count": 8,
     "metadata": {},
     "output_type": "execute_result"
    },
    {
     "data": {
      "image/png": "[encoded data removed]",
      "text/plain": [
       "<Figure size 432x288 with 1 Axes>"
      ]
     },
     "metadata": {
      "needs_background": "light"
     },
     "output_type": "display_data"
    }
   ],
   "source": [
    "x = df[\"Wind Speed (m/s)\"]\n",
    "y = df[\"Loss Percentage\"]\n",
    "plt.scatter(x,y)\n",
    "plt.title(\"Wind Speed vs Loss Percentage\")\n",
    "plt.xlabel(\"Wind Speed (m/s)\")\n",
    "plt.ylabel(\"Loss Percentage\")"
   ]
  },
  {
   "cell_type": "markdown",
   "metadata": {},
   "source": [
    "An increase in wind speed shows a variety of data where halfway through there is negative power loss but then again remains consistant at 0."
   ]
  },
  {
   "cell_type": "markdown",
   "metadata": {},
   "source": [
    "Part c"
   ]
  },
  {
   "cell_type": "markdown",
   "metadata": {},
   "source": [
    "This loss could be a result of a lack of power into the system. In order to reach the same power as believed in the theroretical data the turbines need to be provided with more energy and acount for the thermodynamic loss that happens during the process."
   ]
  },
  {
   "cell_type": "markdown",
   "metadata": {},
   "source": [
    "Problem 2:"
   ]
  },
  {
   "cell_type": "markdown",
   "metadata": {},
   "source": [
    "Part a:"
   ]
  },
  {
   "cell_type": "code",
   "execution_count": 61,
   "metadata": {},
   "outputs": [
    {
     "data": {
      "text/plain": [
       "(10838, 9)"
      ]
     },
     "execution_count": 61,
     "metadata": {},
     "output_type": "execute_result"
    }
   ],
   "source": [
    "df1 = df[ df[\"LV ActivePower (kW)\"] <=0]\n",
    "df1.shape"
   ]
  },
  {
   "cell_type": "markdown",
   "metadata": {},
   "source": [
    "The amount of observations that are 0 or less are 10838."
   ]
  },
  {
   "cell_type": "markdown",
   "metadata": {},
   "source": [
    "Part b:"
   ]
  },
  {
   "cell_type": "code",
   "execution_count": 62,
   "metadata": {},
   "outputs": [
    {
     "data": {
      "text/plain": [
       "(2220, 9)"
      ]
     },
     "execution_count": 62,
     "metadata": {},
     "output_type": "execute_result"
    }
   ],
   "source": [
    "df2 = df1[df1 [\"Wind Speed (m/s)\"] > 3.5]\n",
    "df2.shape"
   ]
  },
  {
   "cell_type": "code",
   "execution_count": 64,
   "metadata": {},
   "outputs": [
    {
     "data": {
      "text/html": [
       "<div>\n",
       "<style scoped>\n",
       "    .dataframe tbody tr th:only-of-type {\n",
       "        vertical-align: middle;\n",
       "    }\n",
       "\n",
       "    .dataframe tbody tr th {\n",
       "        vertical-align: top;\n",
       "    }\n",
       "\n",
       "    .dataframe thead th {\n",
       "        text-align: right;\n",
       "    }\n",
       "</style>\n",
       "<table border=\"1\" class=\"dataframe\">\n",
       "  <thead>\n",
       "    <tr style=\"text-align: right;\">\n",
       "      <th></th>\n",
       "      <th>Observation Number</th>\n",
       "      <th>Date/Time</th>\n",
       "      <th>LV ActivePower (kW)</th>\n",
       "      <th>Wind Speed (m/s)</th>\n",
       "      <th>Theoretical_Power_Curve (KWh)</th>\n",
       "      <th>Wind Direction (°)</th>\n",
       "      <th>Loss</th>\n",
       "      <th>Loss Percentage</th>\n",
       "    </tr>\n",
       "    <tr>\n",
       "      <th>Month</th>\n",
       "      <th></th>\n",
       "      <th></th>\n",
       "      <th></th>\n",
       "      <th></th>\n",
       "      <th></th>\n",
       "      <th></th>\n",
       "      <th></th>\n",
       "      <th></th>\n",
       "    </tr>\n",
       "  </thead>\n",
       "  <tbody>\n",
       "    <tr>\n",
       "      <th>April</th>\n",
       "      <td>176</td>\n",
       "      <td>176</td>\n",
       "      <td>176</td>\n",
       "      <td>176</td>\n",
       "      <td>176</td>\n",
       "      <td>176</td>\n",
       "      <td>176</td>\n",
       "      <td>176</td>\n",
       "    </tr>\n",
       "    <tr>\n",
       "      <th>August</th>\n",
       "      <td>44</td>\n",
       "      <td>44</td>\n",
       "      <td>44</td>\n",
       "      <td>44</td>\n",
       "      <td>44</td>\n",
       "      <td>44</td>\n",
       "      <td>44</td>\n",
       "      <td>44</td>\n",
       "    </tr>\n",
       "    <tr>\n",
       "      <th>Dec</th>\n",
       "      <td>593</td>\n",
       "      <td>593</td>\n",
       "      <td>593</td>\n",
       "      <td>593</td>\n",
       "      <td>593</td>\n",
       "      <td>593</td>\n",
       "      <td>593</td>\n",
       "      <td>593</td>\n",
       "    </tr>\n",
       "    <tr>\n",
       "      <th>Feb</th>\n",
       "      <td>317</td>\n",
       "      <td>317</td>\n",
       "      <td>317</td>\n",
       "      <td>317</td>\n",
       "      <td>317</td>\n",
       "      <td>317</td>\n",
       "      <td>317</td>\n",
       "      <td>317</td>\n",
       "    </tr>\n",
       "    <tr>\n",
       "      <th>Jan</th>\n",
       "      <td>647</td>\n",
       "      <td>647</td>\n",
       "      <td>647</td>\n",
       "      <td>647</td>\n",
       "      <td>647</td>\n",
       "      <td>647</td>\n",
       "      <td>647</td>\n",
       "      <td>647</td>\n",
       "    </tr>\n",
       "    <tr>\n",
       "      <th>July</th>\n",
       "      <td>51</td>\n",
       "      <td>51</td>\n",
       "      <td>51</td>\n",
       "      <td>51</td>\n",
       "      <td>51</td>\n",
       "      <td>51</td>\n",
       "      <td>51</td>\n",
       "      <td>51</td>\n",
       "    </tr>\n",
       "    <tr>\n",
       "      <th>June</th>\n",
       "      <td>34</td>\n",
       "      <td>34</td>\n",
       "      <td>34</td>\n",
       "      <td>34</td>\n",
       "      <td>34</td>\n",
       "      <td>34</td>\n",
       "      <td>34</td>\n",
       "      <td>34</td>\n",
       "    </tr>\n",
       "    <tr>\n",
       "      <th>March</th>\n",
       "      <td>199</td>\n",
       "      <td>199</td>\n",
       "      <td>199</td>\n",
       "      <td>199</td>\n",
       "      <td>199</td>\n",
       "      <td>199</td>\n",
       "      <td>199</td>\n",
       "      <td>199</td>\n",
       "    </tr>\n",
       "    <tr>\n",
       "      <th>May</th>\n",
       "      <td>89</td>\n",
       "      <td>89</td>\n",
       "      <td>89</td>\n",
       "      <td>89</td>\n",
       "      <td>89</td>\n",
       "      <td>89</td>\n",
       "      <td>89</td>\n",
       "      <td>89</td>\n",
       "    </tr>\n",
       "    <tr>\n",
       "      <th>Nov</th>\n",
       "      <td>38</td>\n",
       "      <td>38</td>\n",
       "      <td>38</td>\n",
       "      <td>38</td>\n",
       "      <td>38</td>\n",
       "      <td>38</td>\n",
       "      <td>38</td>\n",
       "      <td>38</td>\n",
       "    </tr>\n",
       "    <tr>\n",
       "      <th>Oct</th>\n",
       "      <td>9</td>\n",
       "      <td>9</td>\n",
       "      <td>9</td>\n",
       "      <td>9</td>\n",
       "      <td>9</td>\n",
       "      <td>9</td>\n",
       "      <td>9</td>\n",
       "      <td>9</td>\n",
       "    </tr>\n",
       "    <tr>\n",
       "      <th>Sep</th>\n",
       "      <td>23</td>\n",
       "      <td>23</td>\n",
       "      <td>23</td>\n",
       "      <td>23</td>\n",
       "      <td>23</td>\n",
       "      <td>23</td>\n",
       "      <td>23</td>\n",
       "      <td>23</td>\n",
       "    </tr>\n",
       "  </tbody>\n",
       "</table>\n",
       "</div>"
      ],
      "text/plain": [
       "        Observation Number  Date/Time  LV ActivePower (kW)  Wind Speed (m/s)  \\\n",
       "Month                                                                          \n",
       "April                  176        176                  176               176   \n",
       "August                  44         44                   44                44   \n",
       "Dec                    593        593                  593               593   \n",
       "Feb                    317        317                  317               317   \n",
       "Jan                    647        647                  647               647   \n",
       "July                    51         51                   51                51   \n",
       "June                    34         34                   34                34   \n",
       "March                  199        199                  199               199   \n",
       "May                     89         89                   89                89   \n",
       "Nov                     38         38                   38                38   \n",
       "Oct                      9          9                    9                 9   \n",
       "Sep                     23         23                   23                23   \n",
       "\n",
       "        Theoretical_Power_Curve (KWh)  Wind Direction (°)  Loss  \\\n",
       "Month                                                             \n",
       "April                             176                 176   176   \n",
       "August                             44                  44    44   \n",
       "Dec                               593                 593   593   \n",
       "Feb                               317                 317   317   \n",
       "Jan                               647                 647   647   \n",
       "July                               51                  51    51   \n",
       "June                               34                  34    34   \n",
       "March                             199                 199   199   \n",
       "May                                89                  89    89   \n",
       "Nov                                38                  38    38   \n",
       "Oct                                 9                   9     9   \n",
       "Sep                                23                  23    23   \n",
       "\n",
       "        Loss Percentage  \n",
       "Month                    \n",
       "April               176  \n",
       "August               44  \n",
       "Dec                 593  \n",
       "Feb                 317  \n",
       "Jan                 647  \n",
       "July                 51  \n",
       "June                 34  \n",
       "March               199  \n",
       "May                  89  \n",
       "Nov                  38  \n",
       "Oct                   9  \n",
       "Sep                  23  "
      ]
     },
     "execution_count": 64,
     "metadata": {},
     "output_type": "execute_result"
    }
   ],
   "source": [
    "df2.groupby('Month').count()"
   ]
  },
  {
   "cell_type": "markdown",
   "metadata": {},
   "source": [
    "Part c:"
   ]
  },
  {
   "cell_type": "markdown",
   "metadata": {},
   "source": [
    "These values can be a result of environmental conditions as an effect from global warming."
   ]
  },
  {
   "cell_type": "markdown",
   "metadata": {},
   "source": [
    "# Part 4: Write up"
   ]
  },
  {
   "cell_type": "markdown",
   "metadata": {},
   "source": [
    "The data provided lists approximately 50,530 observations. From the wind speed plot/data we learned that as wind speed increases there is an increase in both actual and theoretical power. Along with wind speed, the data/plot of wind direction seems to have little effect on the on the power that is generated. According to the data a majority of the power was produced during the months of March, August and November. Also according to the data the months that produced 0 actual power include January, February and December. These months are right in the middle of winter which shows the effects the environment can have on the turbines. These trends were also verified in the \"Loss\" and \"Loss Percentage\" plots, showing the amount of 0 power."
   ]
  }
 ],
 "metadata": {
  "kernelspec": {
   "display_name": "Python 3",
   "language": "python",
   "name": "python3"
  },
  "language_info": {
   "codemirror_mode": {
    "name": "ipython",
    "version": 3
   },
   "file_extension": ".py",
   "mimetype": "text/x-python",
   "name": "python",
   "nbconvert_exporter": "python",
   "pygments_lexer": "ipython3",
   "version": "3.8.3"
  }
 },
 "nbformat": 4,
 "nbformat_minor": 4
}
